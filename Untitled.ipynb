{
 "cells": [
  {
   "cell_type": "code",
   "execution_count": 1,
   "id": "6c97c5b2",
   "metadata": {},
   "outputs": [
    {
     "data": {
      "text/plain": [
       "1237"
      ]
     },
     "execution_count": 1,
     "metadata": {},
     "output_type": "execute_result"
    }
   ],
   "source": [
    "372517%1820"
   ]
  },
  {
   "cell_type": "code",
   "execution_count": 3,
   "id": "26d4a90c",
   "metadata": {},
   "outputs": [
    {
     "data": {
      "text/plain": [
       "636"
      ]
     },
     "execution_count": 3,
     "metadata": {},
     "output_type": "execute_result"
    }
   ],
   "source": [
    "(1417456*1191761)%1820"
   ]
  },
  {
   "cell_type": "code",
   "execution_count": null,
   "id": "33c8e921",
   "metadata": {},
   "outputs": [],
   "source": [
    "(1417456**1191761)"
   ]
  },
  {
   "cell_type": "code",
   "execution_count": 6,
   "id": "3a6a17d9",
   "metadata": {},
   "outputs": [
    {
     "data": {
      "text/plain": [
       "32"
      ]
     },
     "execution_count": 6,
     "metadata": {},
     "output_type": "execute_result"
    }
   ],
   "source": [
    "pow(2,5)"
   ]
  },
  {
   "cell_type": "code",
   "execution_count": 10,
   "id": "7c7e7f9c",
   "metadata": {},
   "outputs": [
    {
     "data": {
      "text/plain": [
       "976"
      ]
     },
     "execution_count": 10,
     "metadata": {},
     "output_type": "execute_result"
    }
   ],
   "source": [
    "pow(1417456,1191761,1820)"
   ]
  },
  {
   "cell_type": "code",
   "execution_count": 11,
   "id": "e38a02fb",
   "metadata": {},
   "outputs": [
    {
     "data": {
      "text/plain": [
       "4"
      ]
     },
     "execution_count": 11,
     "metadata": {},
     "output_type": "execute_result"
    }
   ],
   "source": [
    "pow(5,17,19)"
   ]
  },
  {
   "cell_type": "code",
   "execution_count": 36,
   "id": "6a125f65",
   "metadata": {},
   "outputs": [],
   "source": [
    "from math import *"
   ]
  },
  {
   "cell_type": "code",
   "execution_count": 13,
   "id": "7ab96200",
   "metadata": {},
   "outputs": [
    {
     "data": {
      "text/plain": [
       "1.7320508075688772"
      ]
     },
     "execution_count": 13,
     "metadata": {},
     "output_type": "execute_result"
    }
   ],
   "source": [
    "sqrt(3)"
   ]
  },
  {
   "cell_type": "code",
   "execution_count": 14,
   "id": "c884ef4a",
   "metadata": {},
   "outputs": [
    {
     "data": {
      "text/plain": [
       "7.0710678118654755"
      ]
     },
     "execution_count": 14,
     "metadata": {},
     "output_type": "execute_result"
    }
   ],
   "source": [
    "sqrt(50)"
   ]
  },
  {
   "cell_type": "code",
   "execution_count": 15,
   "id": "4a19883f",
   "metadata": {},
   "outputs": [
    {
     "data": {
      "text/plain": [
       "0.9009688679024191"
      ]
     },
     "execution_count": 15,
     "metadata": {},
     "output_type": "execute_result"
    }
   ],
   "source": [
    "cos(pi/7)"
   ]
  },
  {
   "cell_type": "code",
   "execution_count": 23,
   "id": "acb1a789",
   "metadata": {},
   "outputs": [
    {
     "data": {
      "text/plain": [
       "1618.1779919126539"
      ]
     },
     "execution_count": 23,
     "metadata": {},
     "output_type": "execute_result"
    }
   ],
   "source": [
    "exp(exp(2))"
   ]
  },
  {
   "cell_type": "code",
   "execution_count": 25,
   "id": "1988736d",
   "metadata": {},
   "outputs": [
    {
     "data": {
      "text/plain": [
       "1.7634279935629373"
      ]
     },
     "execution_count": 25,
     "metadata": {},
     "output_type": "execute_result"
    }
   ],
   "source": [
    "log10(58)"
   ]
  },
  {
   "cell_type": "code",
   "execution_count": 38,
   "id": "45fcfd6d",
   "metadata": {},
   "outputs": [
    {
     "data": {
      "text/plain": [
       "mpf('0.46364760900080609')"
      ]
     },
     "execution_count": 38,
     "metadata": {},
     "output_type": "execute_result"
    }
   ],
   "source": [
    "acot(2)"
   ]
  },
  {
   "cell_type": "code",
   "execution_count": 39,
   "id": "ea6c7e0e",
   "metadata": {},
   "outputs": [
    {
     "data": {
      "text/plain": [
       "mpf('0.54930614433405489')"
      ]
     },
     "execution_count": 39,
     "metadata": {},
     "output_type": "execute_result"
    }
   ],
   "source": [
    "acoth(2)"
   ]
  },
  {
   "cell_type": "code",
   "execution_count": null,
   "id": "50f9a4e5",
   "metadata": {},
   "outputs": [],
   "source": []
  }
 ],
 "metadata": {
  "kernelspec": {
   "display_name": "Python 3 (ipykernel)",
   "language": "python",
   "name": "python3"
  },
  "language_info": {
   "codemirror_mode": {
    "name": "ipython",
    "version": 3
   },
   "file_extension": ".py",
   "mimetype": "text/x-python",
   "name": "python",
   "nbconvert_exporter": "python",
   "pygments_lexer": "ipython3",
   "version": "3.11.5"
  }
 },
 "nbformat": 4,
 "nbformat_minor": 5
}
