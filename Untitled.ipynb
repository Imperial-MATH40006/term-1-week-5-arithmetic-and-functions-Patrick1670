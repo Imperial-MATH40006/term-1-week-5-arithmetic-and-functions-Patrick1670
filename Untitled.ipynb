{
 "cells": [
  {
   "cell_type": "code",
   "execution_count": 1,
   "id": "d4658e65",
   "metadata": {},
   "outputs": [
    {
     "data": {
      "text/plain": [
       "1237"
      ]
     },
     "execution_count": 1,
     "metadata": {},
     "output_type": "execute_result"
    }
   ],
   "source": [
    "372517%1820"
   ]
  },
  {
   "cell_type": "code",
   "execution_count": 3,
   "id": "38c90e51",
   "metadata": {},
   "outputs": [
    {
     "data": {
      "text/plain": [
       "636"
      ]
     },
     "execution_count": 3,
     "metadata": {},
     "output_type": "execute_result"
    }
   ],
   "source": [
    "(1417456*1191761)%1820"
   ]
  },
  {
   "cell_type": "code",
   "execution_count": null,
   "id": "06dee021",
   "metadata": {},
   "outputs": [],
   "source": [
    "(1417456**1191761)"
   ]
  },
  {
   "cell_type": "code",
   "execution_count": 6,
   "id": "10112b8e",
   "metadata": {},
   "outputs": [
    {
     "data": {
      "text/plain": [
       "32"
      ]
     },
     "execution_count": 6,
     "metadata": {},
     "output_type": "execute_result"
    }
   ],
   "source": [
    "pow(2,5)"
   ]
  },
  {
   "cell_type": "code",
   "execution_count": 10,
   "id": "cc519966",
   "metadata": {},
   "outputs": [
    {
     "data": {
      "text/plain": [
       "976"
      ]
     },
     "execution_count": 10,
     "metadata": {},
     "output_type": "execute_result"
    }
   ],
   "source": [
    "pow(1417456,1191761,1820)"
   ]
  },
  {
   "cell_type": "code",
   "execution_count": 11,
   "id": "86013720",
   "metadata": {},
   "outputs": [
    {
     "data": {
      "text/plain": [
       "4"
      ]
     },
     "execution_count": 11,
     "metadata": {},
     "output_type": "execute_result"
    }
   ],
   "source": [
    "pow(5,17,19)"
   ]
  },
  {
   "cell_type": "code",
   "execution_count": 36,
   "id": "9a835c6a",
   "metadata": {},
   "outputs": [],
   "source": [
    "from math import *"
   ]
  },
  {
   "cell_type": "code",
   "execution_count": 13,
   "id": "c4ac3d36",
   "metadata": {},
   "outputs": [
    {
     "data": {
      "text/plain": [
       "1.7320508075688772"
      ]
     },
     "execution_count": 13,
     "metadata": {},
     "output_type": "execute_result"
    }
   ],
   "source": [
    "sqrt(3)"
   ]
  },
  {
   "cell_type": "code",
   "execution_count": 14,
   "id": "05e4b496",
   "metadata": {},
   "outputs": [
    {
     "data": {
      "text/plain": [
       "7.0710678118654755"
      ]
     },
     "execution_count": 14,
     "metadata": {},
     "output_type": "execute_result"
    }
   ],
   "source": [
    "sqrt(50)"
   ]
  },
  {
   "cell_type": "code",
   "execution_count": 15,
   "id": "86cdd0f5",
   "metadata": {},
   "outputs": [
    {
     "data": {
      "text/plain": [
       "0.9009688679024191"
      ]
     },
     "execution_count": 15,
     "metadata": {},
     "output_type": "execute_result"
    }
   ],
   "source": [
    "cos(pi/7)"
   ]
  },
  {
   "cell_type": "code",
   "execution_count": 23,
   "id": "8f47779d",
   "metadata": {},
   "outputs": [
    {
     "data": {
      "text/plain": [
       "1618.1779919126539"
      ]
     },
     "execution_count": 23,
     "metadata": {},
     "output_type": "execute_result"
    }
   ],
   "source": [
    "exp(exp(2))"
   ]
  },
  {
   "cell_type": "code",
   "execution_count": 25,
   "id": "3c0fdc26",
   "metadata": {},
   "outputs": [
    {
     "data": {
      "text/plain": [
       "1.7634279935629373"
      ]
     },
     "execution_count": 25,
     "metadata": {},
     "output_type": "execute_result"
    }
   ],
   "source": [
    "log10(58)"
   ]
  },
  {
   "cell_type": "code",
   "execution_count": 38,
   "id": "d84e74ee",
   "metadata": {},
   "outputs": [
    {
     "data": {
      "text/plain": [
       "mpf('0.46364760900080609')"
      ]
     },
     "execution_count": 38,
     "metadata": {},
     "output_type": "execute_result"
    }
   ],
   "source": [
    "acot(2)"
   ]
  },
  {
   "cell_type": "code",
   "execution_count": 39,
   "id": "32888abf",
   "metadata": {},
   "outputs": [
    {
     "data": {
      "text/plain": [
       "mpf('0.54930614433405489')"
      ]
     },
     "execution_count": 39,
     "metadata": {},
     "output_type": "execute_result"
    }
   ],
   "source": [
    "acoth(2)"
   ]
  },
  {
   "cell_type": "code",
   "execution_count": 72,
   "id": "0f6099c8",
   "metadata": {},
   "outputs": [],
   "source": [
    "from math import *"
   ]
  },
  {
   "cell_type": "code",
   "execution_count": 41,
   "id": "8b88b05c",
   "metadata": {},
   "outputs": [
    {
     "data": {
      "text/plain": [
       "7.0710678118654755"
      ]
     },
     "execution_count": 41,
     "metadata": {},
     "output_type": "execute_result"
    }
   ],
   "source": [
    "sqrt(50)"
   ]
  },
  {
   "cell_type": "code",
   "execution_count": 42,
   "id": "534b8f90",
   "metadata": {},
   "outputs": [
    {
     "data": {
      "text/plain": [
       "0.9009688679024191"
      ]
     },
     "execution_count": 42,
     "metadata": {},
     "output_type": "execute_result"
    }
   ],
   "source": [
    "cos(pi/7)"
   ]
  },
  {
   "cell_type": "code",
   "execution_count": 84,
   "id": "3eda92ea",
   "metadata": {},
   "outputs": [],
   "source": [
    "p=3\n",
    "q=18"
   ]
  },
  {
   "cell_type": "code",
   "execution_count": 87,
   "id": "cc2ae314",
   "metadata": {},
   "outputs": [
    {
     "data": {
      "text/plain": [
       "6.0"
      ]
     },
     "execution_count": 87,
     "metadata": {},
     "output_type": "execute_result"
    }
   ],
   "source": [
    "(q/2 +sqrt((q/2)**2 -(p/3)**3))**1/3 +(q/2 -sqrt((q/2)**2 -(p/3)**3))**1/3"
   ]
  },
  {
   "cell_type": "code",
   "execution_count": 86,
   "id": "6cc6689c",
   "metadata": {},
   "outputs": [
    {
     "data": {
      "text/plain": [
       "21"
      ]
     },
     "execution_count": 86,
     "metadata": {},
     "output_type": "execute_result"
    }
   ],
   "source": [
    "p+q"
   ]
  },
  {
   "cell_type": "code",
   "execution_count": 88,
   "id": "d564bccf",
   "metadata": {},
   "outputs": [
    {
     "data": {
      "text/plain": [
       "5.98142396999972"
      ]
     },
     "execution_count": 88,
     "metadata": {},
     "output_type": "execute_result"
    }
   ],
   "source": [
    "(q/2 +sqrt((q/2)**2 -(p/3)**3))**1/3"
   ]
  },
  {
   "cell_type": "code",
   "execution_count": 89,
   "id": "483e6737",
   "metadata": {},
   "outputs": [
    {
     "data": {
      "text/plain": [
       "0.01857603000028026"
      ]
     },
     "execution_count": 89,
     "metadata": {},
     "output_type": "execute_result"
    }
   ],
   "source": [
    "(q/2 -sqrt((q/2)**2 -(p/3)**3))**1/3"
   ]
  },
  {
   "cell_type": "code",
   "execution_count": null,
   "id": "66eec71d",
   "metadata": {},
   "outputs": [],
   "source": []
  }
 ],
 "metadata": {
  "kernelspec": {
   "display_name": "Python 3 (ipykernel)",
   "language": "python",
   "name": "python3"
  },
  "language_info": {
   "codemirror_mode": {
    "name": "ipython",
    "version": 3
   },
   "file_extension": ".py",
   "mimetype": "text/x-python",
   "name": "python",
   "nbconvert_exporter": "python",
   "pygments_lexer": "ipython3",
   "version": "3.11.5"
  }
 },
 "nbformat": 4,
 "nbformat_minor": 5
}
