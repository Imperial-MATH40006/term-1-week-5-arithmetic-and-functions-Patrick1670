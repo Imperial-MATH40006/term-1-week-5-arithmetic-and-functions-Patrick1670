{
 "cells": [
  {
   "cell_type": "code",
   "execution_count": 1,
   "id": "74ecc6c2",
   "metadata": {},
   "outputs": [
    {
     "data": {
      "text/plain": [
       "1237"
      ]
     },
     "execution_count": 1,
     "metadata": {},
     "output_type": "execute_result"
    }
   ],
   "source": [
    "372517%1820"
   ]
  },
  {
   "cell_type": "code",
   "execution_count": 3,
   "id": "f0542672",
   "metadata": {},
   "outputs": [
    {
     "data": {
      "text/plain": [
       "636"
      ]
     },
     "execution_count": 3,
     "metadata": {},
     "output_type": "execute_result"
    }
   ],
   "source": [
    "(1417456*1191761)%1820"
   ]
  },
  {
   "cell_type": "code",
   "execution_count": null,
   "id": "240bfea5",
   "metadata": {},
   "outputs": [],
   "source": [
    "(1417456**1191761)"
   ]
  },
  {
   "cell_type": "code",
   "execution_count": 6,
   "id": "7d82f16a",
   "metadata": {},
   "outputs": [
    {
     "data": {
      "text/plain": [
       "32"
      ]
     },
     "execution_count": 6,
     "metadata": {},
     "output_type": "execute_result"
    }
   ],
   "source": [
    "pow(2,5)"
   ]
  },
  {
   "cell_type": "code",
   "execution_count": 10,
   "id": "ca907885",
   "metadata": {},
   "outputs": [
    {
     "data": {
      "text/plain": [
       "976"
      ]
     },
     "execution_count": 10,
     "metadata": {},
     "output_type": "execute_result"
    }
   ],
   "source": [
    "pow(1417456,1191761,1820)"
   ]
  },
  {
   "cell_type": "code",
   "execution_count": 11,
   "id": "60851763",
   "metadata": {},
   "outputs": [
    {
     "data": {
      "text/plain": [
       "4"
      ]
     },
     "execution_count": 11,
     "metadata": {},
     "output_type": "execute_result"
    }
   ],
   "source": [
    "pow(5,17,19)"
   ]
  },
  {
   "cell_type": "code",
   "execution_count": 36,
   "id": "0fac8ddb",
   "metadata": {},
   "outputs": [],
   "source": [
    "from math import *"
   ]
  },
  {
   "cell_type": "code",
   "execution_count": 13,
   "id": "f51d6a7c",
   "metadata": {},
   "outputs": [
    {
     "data": {
      "text/plain": [
       "1.7320508075688772"
      ]
     },
     "execution_count": 13,
     "metadata": {},
     "output_type": "execute_result"
    }
   ],
   "source": [
    "sqrt(3)"
   ]
  },
  {
   "cell_type": "code",
   "execution_count": 14,
   "id": "729a25ac",
   "metadata": {},
   "outputs": [
    {
     "data": {
      "text/plain": [
       "7.0710678118654755"
      ]
     },
     "execution_count": 14,
     "metadata": {},
     "output_type": "execute_result"
    }
   ],
   "source": [
    "sqrt(50)"
   ]
  },
  {
   "cell_type": "code",
   "execution_count": 15,
   "id": "532b6935",
   "metadata": {},
   "outputs": [
    {
     "data": {
      "text/plain": [
       "0.9009688679024191"
      ]
     },
     "execution_count": 15,
     "metadata": {},
     "output_type": "execute_result"
    }
   ],
   "source": [
    "cos(pi/7)"
   ]
  },
  {
   "cell_type": "code",
   "execution_count": 23,
   "id": "3d3ad046",
   "metadata": {},
   "outputs": [
    {
     "data": {
      "text/plain": [
       "1618.1779919126539"
      ]
     },
     "execution_count": 23,
     "metadata": {},
     "output_type": "execute_result"
    }
   ],
   "source": [
    "exp(exp(2))"
   ]
  },
  {
   "cell_type": "code",
   "execution_count": 25,
   "id": "bebcba2a",
   "metadata": {},
   "outputs": [
    {
     "data": {
      "text/plain": [
       "1.7634279935629373"
      ]
     },
     "execution_count": 25,
     "metadata": {},
     "output_type": "execute_result"
    }
   ],
   "source": [
    "log10(58)"
   ]
  },
  {
   "cell_type": "code",
   "execution_count": 38,
   "id": "b659cf01",
   "metadata": {},
   "outputs": [
    {
     "data": {
      "text/plain": [
       "mpf('0.46364760900080609')"
      ]
     },
     "execution_count": 38,
     "metadata": {},
     "output_type": "execute_result"
    }
   ],
   "source": [
    "acot(2)"
   ]
  },
  {
   "cell_type": "code",
   "execution_count": 39,
   "id": "4e2eded2",
   "metadata": {},
   "outputs": [
    {
     "data": {
      "text/plain": [
       "mpf('0.54930614433405489')"
      ]
     },
     "execution_count": 39,
     "metadata": {},
     "output_type": "execute_result"
    }
   ],
   "source": [
    "acoth(2)"
   ]
  },
  {
   "cell_type": "code",
   "execution_count": 72,
   "id": "a52ff9ea",
   "metadata": {},
   "outputs": [],
   "source": [
    "from math import *"
   ]
  },
  {
   "cell_type": "code",
   "execution_count": 41,
   "id": "704d6a6d",
   "metadata": {},
   "outputs": [
    {
     "data": {
      "text/plain": [
       "7.0710678118654755"
      ]
     },
     "execution_count": 41,
     "metadata": {},
     "output_type": "execute_result"
    }
   ],
   "source": [
    "sqrt(50)"
   ]
  },
  {
   "cell_type": "code",
   "execution_count": 42,
   "id": "06430121",
   "metadata": {},
   "outputs": [
    {
     "data": {
      "text/plain": [
       "0.9009688679024191"
      ]
     },
     "execution_count": 42,
     "metadata": {},
     "output_type": "execute_result"
    }
   ],
   "source": [
    "cos(pi/7)"
   ]
  },
  {
   "cell_type": "code",
   "execution_count": 84,
   "id": "3858d8cb",
   "metadata": {},
   "outputs": [],
   "source": [
    "p=3\n",
    "q=18"
   ]
  },
  {
   "cell_type": "code",
   "execution_count": 87,
   "id": "4425184d",
   "metadata": {},
   "outputs": [
    {
     "data": {
      "text/plain": [
       "6.0"
      ]
     },
     "execution_count": 87,
     "metadata": {},
     "output_type": "execute_result"
    }
   ],
   "source": [
    "(q/2 +sqrt((q/2)**2 -(p/3)**3))**1/3 +(q/2 -sqrt((q/2)**2 -(p/3)**3))**1/3"
   ]
  },
  {
   "cell_type": "code",
   "execution_count": 86,
   "id": "29b668e1",
   "metadata": {},
   "outputs": [
    {
     "data": {
      "text/plain": [
       "21"
      ]
     },
     "execution_count": 86,
     "metadata": {},
     "output_type": "execute_result"
    }
   ],
   "source": [
    "p+q"
   ]
  },
  {
   "cell_type": "code",
   "execution_count": null,
   "id": "ee0d92a0",
   "metadata": {},
   "outputs": [],
   "source": []
  }
 ],
 "metadata": {
  "kernelspec": {
   "display_name": "Python 3 (ipykernel)",
   "language": "python",
   "name": "python3"
  },
  "language_info": {
   "codemirror_mode": {
    "name": "ipython",
    "version": 3
   },
   "file_extension": ".py",
   "mimetype": "text/x-python",
   "name": "python",
   "nbconvert_exporter": "python",
   "pygments_lexer": "ipython3",
   "version": "3.11.5"
  }
 },
 "nbformat": 4,
 "nbformat_minor": 5
}
